{
 "cells": [
  {
   "cell_type": "code",
   "execution_count": 1,
   "metadata": {},
   "outputs": [
    {
     "name": "stdout",
     "output_type": "stream",
     "text": [
      "['C:\\\\Users\\\\y\\\\Desktop\\\\TrainingData\\\\IMG\\\\center_2018_01_09_03_33_02_577.jpg', 'C:\\\\Users\\\\y\\\\Desktop\\\\TrainingData\\\\IMG\\\\left_2018_01_09_03_33_02_577.jpg', 'C:\\\\Users\\\\y\\\\Desktop\\\\TrainingData\\\\IMG\\\\right_2018_01_09_03_33_02_577.jpg', '0', '0', '0', '4.364454E-06']\n"
     ]
    }
   ],
   "source": [
    "import csv\n",
    "import cv2\n",
    "import numpy as np\n",
    "\n",
    "lines = []\n",
    "with open('Data/driving_log.csv') as csvfile:\n",
    "    reader = csv.reader(csvfile)\n",
    "    for line in reader:\n",
    "        lines.append(line)\n",
    "\n",
    "print(lines[0])\n",
    "\n",
    "from sklearn.model_selection import train_test_split\n",
    "train_samples, validation_samples = train_test_split(lines, test_size=0.2)"
   ]
  },
  {
   "cell_type": "code",
   "execution_count": 3,
   "metadata": {
    "collapsed": true
   },
   "outputs": [],
   "source": [
    "import sklearn\n",
    "import os\n",
    "def generator(samples, batch_size=100):\n",
    "    num_samples = len(samples)\n",
    "    while 1: \n",
    "        \n",
    "        for offset in range(0, num_samples, batch_size):\n",
    "            batch_samples = samples[offset:offset+batch_size]\n",
    "\n",
    "            images = []\n",
    "            angles = []\n",
    "            for batch_sample in batch_samples:\n",
    "                name = 'Data/IMG/'+batch_sample[0].split('\\\\')[-1]\n",
    "                center_image = cv2.imread(name)\n",
    "                center_angle = float(batch_sample[3])\n",
    "                namel = 'Data/IMG/'+batch_sample[1].split('\\\\')[-1]\n",
    "                l_image = cv2.imread(namel)\n",
    "                l_angle = float(batch_sample[3]) + 0.15                \n",
    "                namer = 'Data/IMG/'+batch_sample[2].split('\\\\')[-1]\n",
    "                r_image = cv2.imread(namer)\n",
    "                r_angle = float(batch_sample[3]) - 0.15                             \n",
    "                \n",
    "                images.append(center_image)\n",
    "                images.append(l_image)\n",
    "                images.append(r_image)\n",
    "                images.append(cv2.flip(center_image,1))\n",
    "                images.append(cv2.flip(l_image,1))\n",
    "                images.append(cv2.flip(r_image,1))\n",
    "                angles.append(center_angle)\n",
    "                angles.append(l_angle)\n",
    "                angles.append(r_angle)\n",
    "                angles.append(center_angle*-1.0)\n",
    "                angles.append(l_angle*-1.0)\n",
    "                angles.append(r_angle*-1.0)\n",
    "            \n",
    "            X_train = np.array(images)\n",
    "            y_train = np.array(angles)\n",
    "            yield sklearn.utils.shuffle(X_train, y_train)"
   ]
  },
  {
   "cell_type": "code",
   "execution_count": 4,
   "metadata": {},
   "outputs": [
    {
     "name": "stderr",
     "output_type": "stream",
     "text": [
      "Using TensorFlow backend.\n"
     ]
    },
    {
     "name": "stdout",
     "output_type": "stream",
     "text": [
      "Epoch 1/3\n",
      "42438/42438 [==============================] - 96s - loss: 0.0209 - val_loss: 0.0185\n",
      "Epoch 2/3\n",
      "42438/42438 [==============================] - 77s - loss: 0.0172 - val_loss: 0.0170\n",
      "Epoch 3/3\n",
      "42438/42438 [==============================] - 76s - loss: 0.0161 - val_loss: 0.0165\n"
     ]
    }
   ],
   "source": [
    "\n",
    "train_generator = generator(train_samples, batch_size=100)\n",
    "validation_generator = generator(validation_samples, batch_size=100)\n",
    "\n",
    "from keras.models import Sequential\n",
    "from keras.layers import Flatten, Dense, Lambda, Activation, Cropping2D\n",
    "from keras.layers.convolutional import Convolution2D\n",
    "from keras.layers.pooling import MaxPooling2D\n",
    "\n",
    "model = Sequential()\n",
    "model.add(Lambda(lambda x:x/255.0 - 0.5, input_shape=(160,320,3)))\n",
    "model.add(Cropping2D(cropping=((70,25), (0,0))))\n",
    "model.add(Convolution2D(24, 5, 5, subsample =(2,2)))\n",
    "model.add(Activation('relu'))\n",
    "model.add(Convolution2D(36, 5, 5, subsample =(2,2)))\n",
    "model.add(Activation('relu'))\n",
    "model.add(Convolution2D(48, 5, 5, subsample =(2,2)))\n",
    "model.add(Activation('relu'))\n",
    "\n",
    "model.add(Convolution2D(64, 3, 3))\n",
    "model.add(Activation('relu'))\n",
    "model.add(Convolution2D(64, 3, 3))\n",
    "model.add(Activation('relu'))\n",
    "model.add(Flatten())\n",
    "model.add(Dense(100))\n",
    "model.add(Dense(50))\n",
    "model.add(Dense(10))\n",
    "model.add(Dense(1))\n",
    "\n",
    "model.compile(loss='mse', optimizer='adam')\n",
    "model.fit_generator(train_generator, samples_per_epoch=6*len(train_samples), validation_data=validation_generator, nb_val_samples=6*len(validation_samples), nb_epoch=3)\n",
    "model.save('model.h5')"
   ]
  }
 ],
 "metadata": {
  "anaconda-cloud": {},
  "kernelspec": {
   "display_name": "Python 3",
   "language": "python",
   "name": "python3"
  },
  "language_info": {
   "codemirror_mode": {
    "name": "ipython",
    "version": 3
   },
   "file_extension": ".py",
   "mimetype": "text/x-python",
   "name": "python",
   "nbconvert_exporter": "python",
   "pygments_lexer": "ipython3",
   "version": "3.5.2"
  },
  "widgets": {
   "state": {},
   "version": "1.1.2"
  }
 },
 "nbformat": 4,
 "nbformat_minor": 2
}
